{
 "cells": [
  {
   "cell_type": "code",
   "execution_count": 1,
   "metadata": {},
   "outputs": [],
   "source": [
    "import os\n",
    "\n",
    "os.environ[\"DGLBACKEND\"] = \"pytorch\"  # use PyTorch as backend\n",
    "import dgl\n",
    "import dgl.data\n",
    "import torch\n",
    "import torch.nn as nn\n",
    "import torch.nn.functional as F"
   ]
  },
  {
   "cell_type": "code",
   "execution_count": 2,
   "metadata": {},
   "outputs": [
    {
     "name": "stdout",
     "output_type": "stream",
     "text": [
      "Downloading C:\\Users\\Atikin\\.dgl\\cora_v2.zip from https://data.dgl.ai/dataset/cora_v2.zip...\n",
      "Extracting file to C:\\Users\\Atikin\\.dgl\\cora_v2_d697a464\n",
      "Finished data loading and preprocessing.\n",
      "  NumNodes: 2708\n",
      "  NumEdges: 10556\n",
      "  NumFeats: 1433\n",
      "  NumClasses: 7\n",
      "  NumTrainingSamples: 140\n",
      "  NumValidationSamples: 500\n",
      "  NumTestSamples: 1000\n",
      "Done saving data into cached files.\n",
      "Number of categories: 7\n"
     ]
    }
   ],
   "source": [
    "dataset = dgl.data.CoraGraphDataset()\n",
    "print(f\"Number of categories: {dataset.num_classes}\")"
   ]
  },
  {
   "cell_type": "code",
   "execution_count": 3,
   "metadata": {},
   "outputs": [
    {
     "data": {
      "text/plain": [
       "torch.Size([2708, 1433])"
      ]
     },
     "execution_count": 3,
     "metadata": {},
     "output_type": "execute_result"
    }
   ],
   "source": [
    "g = dataset[0]\n",
    "g.ndata[\"feat\"].shape"
   ]
  },
  {
   "cell_type": "code",
   "execution_count": 4,
   "metadata": {},
   "outputs": [],
   "source": [
    "from dgl.nn import GraphConv\n",
    "\n",
    "\n",
    "class GCN(nn.Module):  # nn.Module - PyTorch parent class for registering all layers, parameters, etc. inside the backing\n",
    "    def __init__(self, in_feats, h_feats, num_classes):\n",
    "        super(GCN, self).__init__()\n",
    "        self.conv1 = GraphConv(in_feats, h_feats)  # a graph convolution layer in which we specify the dimension of incoming and outgoing elements. In our case, this is a vector of words\n",
    "        self.conv2 = GraphConv(h_feats, num_classes)  # the last layer, at the output we get dimension = 7 - the number of classes in the graph\n",
    "\n",
    "    def forward(self, g, in_feat):\n",
    "        h = self.conv1(g, in_feat)\n",
    "        h = F.relu(h)\n",
    "        h = self.conv2(g, h)\n",
    "        return h\n",
    "\n",
    "\n",
    "# Create the model with given dimensions\n",
    "# 16 - number of parameters on the middle layer\n",
    "model = GCN(g.ndata[\"feat\"].shape[1], 16, dataset.num_classes)"
   ]
  },
  {
   "cell_type": "code",
   "execution_count": 5,
   "metadata": {},
   "outputs": [
    {
     "data": {
      "text/plain": [
       "GCN(\n",
       "  (conv1): GraphConv(in=1433, out=16, normalization=both, activation=None)\n",
       "  (conv2): GraphConv(in=16, out=7, normalization=both, activation=None)\n",
       ")"
      ]
     },
     "execution_count": 5,
     "metadata": {},
     "output_type": "execute_result"
    }
   ],
   "source": [
    "model"
   ]
  },
  {
   "cell_type": "markdown",
   "metadata": {},
   "source": [
    "#### Loop for model training"
   ]
  },
  {
   "cell_type": "code",
   "execution_count": 6,
   "metadata": {},
   "outputs": [
    {
     "name": "stdout",
     "output_type": "stream",
     "text": [
      "In epoch 0, loss: 1.946, val acc: 0.136 (best 0.136), test acc: 0.125 (best 0.125)\n",
      "In epoch 5, loss: 1.904, val acc: 0.534 (best 0.594), test acc: 0.529 (best 0.630)\n",
      "In epoch 10, loss: 1.835, val acc: 0.654 (best 0.662), test acc: 0.684 (best 0.691)\n",
      "In epoch 15, loss: 1.740, val acc: 0.624 (best 0.662), test acc: 0.637 (best 0.691)\n",
      "In epoch 20, loss: 1.620, val acc: 0.668 (best 0.668), test acc: 0.703 (best 0.703)\n",
      "In epoch 25, loss: 1.478, val acc: 0.700 (best 0.702), test acc: 0.729 (best 0.728)\n",
      "In epoch 30, loss: 1.318, val acc: 0.694 (best 0.704), test acc: 0.734 (best 0.727)\n",
      "In epoch 35, loss: 1.149, val acc: 0.708 (best 0.708), test acc: 0.747 (best 0.747)\n",
      "In epoch 40, loss: 0.977, val acc: 0.732 (best 0.732), test acc: 0.748 (best 0.748)\n",
      "In epoch 45, loss: 0.813, val acc: 0.746 (best 0.746), test acc: 0.752 (best 0.752)\n",
      "In epoch 50, loss: 0.664, val acc: 0.756 (best 0.756), test acc: 0.756 (best 0.756)\n",
      "In epoch 55, loss: 0.535, val acc: 0.758 (best 0.758), test acc: 0.763 (best 0.763)\n",
      "In epoch 60, loss: 0.429, val acc: 0.762 (best 0.762), test acc: 0.765 (best 0.766)\n",
      "In epoch 65, loss: 0.343, val acc: 0.768 (best 0.768), test acc: 0.767 (best 0.766)\n",
      "In epoch 70, loss: 0.276, val acc: 0.772 (best 0.774), test acc: 0.771 (best 0.768)\n",
      "In epoch 75, loss: 0.223, val acc: 0.772 (best 0.774), test acc: 0.775 (best 0.768)\n",
      "In epoch 80, loss: 0.183, val acc: 0.776 (best 0.776), test acc: 0.782 (best 0.778)\n",
      "In epoch 85, loss: 0.152, val acc: 0.784 (best 0.784), test acc: 0.779 (best 0.779)\n",
      "In epoch 90, loss: 0.127, val acc: 0.776 (best 0.784), test acc: 0.780 (best 0.779)\n",
      "In epoch 95, loss: 0.108, val acc: 0.774 (best 0.784), test acc: 0.781 (best 0.779)\n"
     ]
    }
   ],
   "source": [
    "def train(g, model):\n",
    "    optimizer = torch.optim.Adam(model.parameters(), lr=0.01)\n",
    "    best_val_acc = 0\n",
    "    best_test_acc = 0\n",
    "\n",
    "    features = g.ndata[\"feat\"]\n",
    "    labels = g.ndata[\"label\"]\n",
    "    train_mask = g.ndata[\"train_mask\"]\n",
    "    val_mask = g.ndata[\"val_mask\"]\n",
    "    test_mask = g.ndata[\"test_mask\"]\n",
    "    for e in range(100):\n",
    "        # Forward\n",
    "        logits = model(g, features)\n",
    "\n",
    "        # Compute prediction\n",
    "        pred = logits.argmax(1)\n",
    "\n",
    "        # Compute loss\n",
    "        # Note that you should only compute the losses of the nodes in the training set.\n",
    "        loss = F.cross_entropy(logits[train_mask], labels[train_mask])\n",
    "\n",
    "        # Compute accuracy on training/validation/test\n",
    "        train_acc = (pred[train_mask] == labels[train_mask]).float().mean()\n",
    "        val_acc = (pred[val_mask] == labels[val_mask]).float().mean()\n",
    "        test_acc = (pred[test_mask] == labels[test_mask]).float().mean()\n",
    "\n",
    "        # Save the best validation accuracy and the corresponding test accuracy.\n",
    "        if best_val_acc < val_acc:\n",
    "            best_val_acc = val_acc\n",
    "            best_test_acc = test_acc\n",
    "\n",
    "        # Backward\n",
    "        optimizer.zero_grad()\n",
    "        loss.backward()\n",
    "        optimizer.step()\n",
    "\n",
    "        if e % 5 == 0:\n",
    "            print(\n",
    "                f\"In epoch {e}, loss: {loss:.3f}, val acc: {val_acc:.3f} (best {best_val_acc:.3f}), test acc: {test_acc:.3f} (best {best_test_acc:.3f})\"\n",
    "            )\n",
    "\n",
    "\n",
    "train(g, model)"
   ]
  },
  {
   "cell_type": "markdown",
   "metadata": {},
   "source": [
    "Let's see what accuracy we got in the end"
   ]
  },
  {
   "cell_type": "code",
   "execution_count": 7,
   "metadata": {},
   "outputs": [
    {
     "name": "stdout",
     "output_type": "stream",
     "text": [
      "tensor([3, 4, 4,  ..., 0, 4, 3])\n",
      "Accuracy: 0.7790\n"
     ]
    }
   ],
   "source": [
    "model.eval()\n",
    "features = g.ndata[\"feat\"]\n",
    "pred = model(g, features).argmax(dim=1)\n",
    "print(pred)\n",
    "correct = (pred[g.ndata['test_mask']] == g.ndata[\"label\"][g.ndata[\"test_mask\"]]).sum()\n",
    "acc = int(correct) / int(g.ndata['test_mask'].sum())\n",
    "print(f'Accuracy: {acc:.4f}')"
   ]
  },
  {
   "cell_type": "markdown",
   "metadata": {},
   "source": [
    "Now we save the entire model to a file. Since the model uses PyTorch as a back-up, saving occurs through PyTorch functions"
   ]
  },
  {
   "cell_type": "code",
   "execution_count": 8,
   "metadata": {},
   "outputs": [],
   "source": [
    "torch.save(model, './models/model.pt')"
   ]
  },
  {
   "cell_type": "markdown",
   "metadata": {},
   "source": [
    "#### Now let’s load the model and make an inference"
   ]
  },
  {
   "cell_type": "code",
   "execution_count": 11,
   "metadata": {},
   "outputs": [
    {
     "data": {
      "text/plain": [
       "GCN(\n",
       "  (conv1): GraphConv(in=1433, out=16, normalization=both, activation=None)\n",
       "  (conv2): GraphConv(in=16, out=7, normalization=both, activation=None)\n",
       ")"
      ]
     },
     "execution_count": 11,
     "metadata": {},
     "output_type": "execute_result"
    }
   ],
   "source": [
    "model_inf = torch.load('./models/model.pt')\n",
    "model_inf.eval()"
   ]
  },
  {
   "cell_type": "code",
   "execution_count": 12,
   "metadata": {},
   "outputs": [
    {
     "name": "stdout",
     "output_type": "stream",
     "text": [
      "tensor([3, 4, 4,  ..., 0, 4, 3])\n",
      "Accuracy: 0.7790\n"
     ]
    }
   ],
   "source": [
    "features = g.ndata[\"feat\"]\n",
    "pred = model_inf(g, features).argmax(dim=1)\n",
    "print(pred)\n",
    "correct = (pred[g.ndata['test_mask']] == g.ndata[\"label\"][g.ndata[\"test_mask\"]]).sum()\n",
    "acc = int(correct) / int(g.ndata['test_mask'].sum())\n",
    "print(f'Accuracy: {acc:.4f}')"
   ]
  }
 ],
 "metadata": {
  "kernelspec": {
   "display_name": "data_sience",
   "language": "python",
   "name": "python3"
  },
  "language_info": {
   "codemirror_mode": {
    "name": "ipython",
    "version": 3
   },
   "file_extension": ".py",
   "mimetype": "text/x-python",
   "name": "python",
   "nbconvert_exporter": "python",
   "pygments_lexer": "ipython3",
   "version": "3.9.7"
  }
 },
 "nbformat": 4,
 "nbformat_minor": 2
}
